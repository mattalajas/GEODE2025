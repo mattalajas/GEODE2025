{
 "cells": [
  {
   "cell_type": "code",
   "execution_count": 1,
   "metadata": {},
   "outputs": [],
   "source": [
    "try:\n",
    "    from tqdm import tqdm\n",
    "except ImportError:\n",
    "    def tqdm(iterable):\n",
    "        return iterable\n",
    "\n",
    "import torch\n",
    "import torch.nn.functional as F\n",
    "from torch_geometric_temporal.nn.recurrent import EvolveGCNO\n",
    "\n",
    "from torch_geometric_temporal.dataset import ChickenpoxDatasetLoader\n",
    "from torch_geometric_temporal.signal import temporal_signal_split\n",
    "\n",
    "loader = ChickenpoxDatasetLoader()\n",
    "\n",
    "dataset = loader.get_dataset()\n",
    "\n",
    "train_dataset, test_dataset = temporal_signal_split(dataset, train_ratio=0.2)"
   ]
  },
  {
   "cell_type": "code",
   "execution_count": 2,
   "metadata": {},
   "outputs": [],
   "source": [
    "class RecurrentGCN(torch.nn.Module):\n",
    "    def __init__(self, node_features):\n",
    "        super(RecurrentGCN, self).__init__()\n",
    "        self.recurrent = EvolveGCNO(node_features)\n",
    "        self.linear = torch.nn.Linear(node_features, 1)\n",
    "\n",
    "    def forward(self, x, edge_index, edge_weight):\n",
    "        h = self.recurrent(x, edge_index, edge_weight)\n",
    "        h = F.relu(h)\n",
    "        h = self.linear(h)\n",
    "        return h\n",
    "        \n",
    "model = RecurrentGCN(node_features = 4)\n",
    "for param in model.parameters():\n",
    "    param.retain_grad()\n",
    "\n",
    "optimizer = torch.optim.Adam(model.parameters(), lr=0.01)"
   ]
  },
  {
   "cell_type": "code",
   "execution_count": 5,
   "metadata": {},
   "outputs": [
    {
     "name": "stdout",
     "output_type": "stream",
     "text": [
      "Data(x=[20, 4], edge_index=[2, 102], edge_attr=[102], y=[20])\n",
      "Data(x=[20, 4], edge_index=[2, 102], edge_attr=[102], y=[20])\n",
      "Data(x=[20, 4], edge_index=[2, 102], edge_attr=[102], y=[20])\n",
      "Data(x=[20, 4], edge_index=[2, 102], edge_attr=[102], y=[20])\n",
      "Data(x=[20, 4], edge_index=[2, 102], edge_attr=[102], y=[20])\n",
      "Data(x=[20, 4], edge_index=[2, 102], edge_attr=[102], y=[20])\n",
      "Data(x=[20, 4], edge_index=[2, 102], edge_attr=[102], y=[20])\n",
      "Data(x=[20, 4], edge_index=[2, 102], edge_attr=[102], y=[20])\n",
      "Data(x=[20, 4], edge_index=[2, 102], edge_attr=[102], y=[20])\n",
      "Data(x=[20, 4], edge_index=[2, 102], edge_attr=[102], y=[20])\n",
      "Data(x=[20, 4], edge_index=[2, 102], edge_attr=[102], y=[20])\n",
      "Data(x=[20, 4], edge_index=[2, 102], edge_attr=[102], y=[20])\n",
      "Data(x=[20, 4], edge_index=[2, 102], edge_attr=[102], y=[20])\n",
      "Data(x=[20, 4], edge_index=[2, 102], edge_attr=[102], y=[20])\n",
      "Data(x=[20, 4], edge_index=[2, 102], edge_attr=[102], y=[20])\n",
      "Data(x=[20, 4], edge_index=[2, 102], edge_attr=[102], y=[20])\n",
      "Data(x=[20, 4], edge_index=[2, 102], edge_attr=[102], y=[20])\n",
      "Data(x=[20, 4], edge_index=[2, 102], edge_attr=[102], y=[20])\n",
      "Data(x=[20, 4], edge_index=[2, 102], edge_attr=[102], y=[20])\n",
      "Data(x=[20, 4], edge_index=[2, 102], edge_attr=[102], y=[20])\n",
      "Data(x=[20, 4], edge_index=[2, 102], edge_attr=[102], y=[20])\n",
      "Data(x=[20, 4], edge_index=[2, 102], edge_attr=[102], y=[20])\n",
      "Data(x=[20, 4], edge_index=[2, 102], edge_attr=[102], y=[20])\n",
      "Data(x=[20, 4], edge_index=[2, 102], edge_attr=[102], y=[20])\n",
      "Data(x=[20, 4], edge_index=[2, 102], edge_attr=[102], y=[20])\n",
      "Data(x=[20, 4], edge_index=[2, 102], edge_attr=[102], y=[20])\n",
      "Data(x=[20, 4], edge_index=[2, 102], edge_attr=[102], y=[20])\n",
      "Data(x=[20, 4], edge_index=[2, 102], edge_attr=[102], y=[20])\n",
      "Data(x=[20, 4], edge_index=[2, 102], edge_attr=[102], y=[20])\n",
      "Data(x=[20, 4], edge_index=[2, 102], edge_attr=[102], y=[20])\n",
      "Data(x=[20, 4], edge_index=[2, 102], edge_attr=[102], y=[20])\n",
      "Data(x=[20, 4], edge_index=[2, 102], edge_attr=[102], y=[20])\n",
      "Data(x=[20, 4], edge_index=[2, 102], edge_attr=[102], y=[20])\n",
      "Data(x=[20, 4], edge_index=[2, 102], edge_attr=[102], y=[20])\n",
      "Data(x=[20, 4], edge_index=[2, 102], edge_attr=[102], y=[20])\n",
      "Data(x=[20, 4], edge_index=[2, 102], edge_attr=[102], y=[20])\n",
      "Data(x=[20, 4], edge_index=[2, 102], edge_attr=[102], y=[20])\n",
      "Data(x=[20, 4], edge_index=[2, 102], edge_attr=[102], y=[20])\n",
      "Data(x=[20, 4], edge_index=[2, 102], edge_attr=[102], y=[20])\n",
      "Data(x=[20, 4], edge_index=[2, 102], edge_attr=[102], y=[20])\n",
      "Data(x=[20, 4], edge_index=[2, 102], edge_attr=[102], y=[20])\n",
      "Data(x=[20, 4], edge_index=[2, 102], edge_attr=[102], y=[20])\n",
      "Data(x=[20, 4], edge_index=[2, 102], edge_attr=[102], y=[20])\n",
      "Data(x=[20, 4], edge_index=[2, 102], edge_attr=[102], y=[20])\n",
      "Data(x=[20, 4], edge_index=[2, 102], edge_attr=[102], y=[20])\n",
      "Data(x=[20, 4], edge_index=[2, 102], edge_attr=[102], y=[20])\n",
      "Data(x=[20, 4], edge_index=[2, 102], edge_attr=[102], y=[20])\n",
      "Data(x=[20, 4], edge_index=[2, 102], edge_attr=[102], y=[20])\n",
      "Data(x=[20, 4], edge_index=[2, 102], edge_attr=[102], y=[20])\n",
      "Data(x=[20, 4], edge_index=[2, 102], edge_attr=[102], y=[20])\n",
      "Data(x=[20, 4], edge_index=[2, 102], edge_attr=[102], y=[20])\n",
      "Data(x=[20, 4], edge_index=[2, 102], edge_attr=[102], y=[20])\n",
      "Data(x=[20, 4], edge_index=[2, 102], edge_attr=[102], y=[20])\n",
      "Data(x=[20, 4], edge_index=[2, 102], edge_attr=[102], y=[20])\n",
      "Data(x=[20, 4], edge_index=[2, 102], edge_attr=[102], y=[20])\n",
      "Data(x=[20, 4], edge_index=[2, 102], edge_attr=[102], y=[20])\n",
      "Data(x=[20, 4], edge_index=[2, 102], edge_attr=[102], y=[20])\n",
      "Data(x=[20, 4], edge_index=[2, 102], edge_attr=[102], y=[20])\n",
      "Data(x=[20, 4], edge_index=[2, 102], edge_attr=[102], y=[20])\n",
      "Data(x=[20, 4], edge_index=[2, 102], edge_attr=[102], y=[20])\n",
      "Data(x=[20, 4], edge_index=[2, 102], edge_attr=[102], y=[20])\n",
      "Data(x=[20, 4], edge_index=[2, 102], edge_attr=[102], y=[20])\n",
      "Data(x=[20, 4], edge_index=[2, 102], edge_attr=[102], y=[20])\n",
      "Data(x=[20, 4], edge_index=[2, 102], edge_attr=[102], y=[20])\n",
      "Data(x=[20, 4], edge_index=[2, 102], edge_attr=[102], y=[20])\n",
      "Data(x=[20, 4], edge_index=[2, 102], edge_attr=[102], y=[20])\n",
      "Data(x=[20, 4], edge_index=[2, 102], edge_attr=[102], y=[20])\n",
      "Data(x=[20, 4], edge_index=[2, 102], edge_attr=[102], y=[20])\n",
      "Data(x=[20, 4], edge_index=[2, 102], edge_attr=[102], y=[20])\n",
      "Data(x=[20, 4], edge_index=[2, 102], edge_attr=[102], y=[20])\n",
      "Data(x=[20, 4], edge_index=[2, 102], edge_attr=[102], y=[20])\n",
      "Data(x=[20, 4], edge_index=[2, 102], edge_attr=[102], y=[20])\n",
      "Data(x=[20, 4], edge_index=[2, 102], edge_attr=[102], y=[20])\n",
      "Data(x=[20, 4], edge_index=[2, 102], edge_attr=[102], y=[20])\n",
      "Data(x=[20, 4], edge_index=[2, 102], edge_attr=[102], y=[20])\n",
      "Data(x=[20, 4], edge_index=[2, 102], edge_attr=[102], y=[20])\n",
      "Data(x=[20, 4], edge_index=[2, 102], edge_attr=[102], y=[20])\n",
      "Data(x=[20, 4], edge_index=[2, 102], edge_attr=[102], y=[20])\n",
      "Data(x=[20, 4], edge_index=[2, 102], edge_attr=[102], y=[20])\n",
      "Data(x=[20, 4], edge_index=[2, 102], edge_attr=[102], y=[20])\n",
      "Data(x=[20, 4], edge_index=[2, 102], edge_attr=[102], y=[20])\n",
      "Data(x=[20, 4], edge_index=[2, 102], edge_attr=[102], y=[20])\n",
      "Data(x=[20, 4], edge_index=[2, 102], edge_attr=[102], y=[20])\n",
      "Data(x=[20, 4], edge_index=[2, 102], edge_attr=[102], y=[20])\n",
      "Data(x=[20, 4], edge_index=[2, 102], edge_attr=[102], y=[20])\n",
      "Data(x=[20, 4], edge_index=[2, 102], edge_attr=[102], y=[20])\n",
      "Data(x=[20, 4], edge_index=[2, 102], edge_attr=[102], y=[20])\n",
      "Data(x=[20, 4], edge_index=[2, 102], edge_attr=[102], y=[20])\n",
      "Data(x=[20, 4], edge_index=[2, 102], edge_attr=[102], y=[20])\n",
      "Data(x=[20, 4], edge_index=[2, 102], edge_attr=[102], y=[20])\n",
      "Data(x=[20, 4], edge_index=[2, 102], edge_attr=[102], y=[20])\n",
      "Data(x=[20, 4], edge_index=[2, 102], edge_attr=[102], y=[20])\n",
      "Data(x=[20, 4], edge_index=[2, 102], edge_attr=[102], y=[20])\n",
      "Data(x=[20, 4], edge_index=[2, 102], edge_attr=[102], y=[20])\n",
      "Data(x=[20, 4], edge_index=[2, 102], edge_attr=[102], y=[20])\n",
      "Data(x=[20, 4], edge_index=[2, 102], edge_attr=[102], y=[20])\n",
      "Data(x=[20, 4], edge_index=[2, 102], edge_attr=[102], y=[20])\n",
      "Data(x=[20, 4], edge_index=[2, 102], edge_attr=[102], y=[20])\n",
      "Data(x=[20, 4], edge_index=[2, 102], edge_attr=[102], y=[20])\n",
      "Data(x=[20, 4], edge_index=[2, 102], edge_attr=[102], y=[20])\n",
      "Data(x=[20, 4], edge_index=[2, 102], edge_attr=[102], y=[20])\n",
      "Data(x=[20, 4], edge_index=[2, 102], edge_attr=[102], y=[20])\n",
      "Data(x=[20, 4], edge_index=[2, 102], edge_attr=[102], y=[20])\n"
     ]
    }
   ],
   "source": [
    "for time, snapshot in enumerate(train_dataset):\n",
    "    print(snapshot)"
   ]
  },
  {
   "cell_type": "code",
   "execution_count": 16,
   "metadata": {},
   "outputs": [
    {
     "data": {
      "text/plain": [
       "tensor([-1.0814e-03,  4.5349e-01,  1.2904e+00, -2.3982e+00,  5.5468e-01,\n",
       "         5.6077e-01,  3.6383e+00,  4.3413e-01, -4.2117e-01,  1.9873e+00,\n",
       "         5.1625e-01,  6.9223e-01,  4.1767e-01,  7.6423e-01,  8.2758e-01,\n",
       "         2.5313e-01,  1.2545e+00, -1.3190e+00,  7.0646e-01,  1.3516e+00])"
      ]
     },
     "execution_count": 16,
     "metadata": {},
     "output_type": "execute_result"
    }
   ],
   "source": [
    "snapshot.y"
   ]
  },
  {
   "cell_type": "code",
   "execution_count": null,
   "metadata": {},
   "outputs": [],
   "source": [
    "model.train()\n",
    "\n",
    "for epoch in tqdm(range(200)):\n",
    "    cost = 0\n",
    "    for time, snapshot in enumerate(train_dataset):\n",
    "        y_hat = model(snapshot.x, snapshot.edge_index, snapshot.edge_attr)\n",
    "        cost = cost + torch.mean((y_hat-snapshot.y)**2)\n",
    "    cost = cost / (time+1)\n",
    "    cost.backward(retain_graph=True)\n",
    "    optimizer.step()\n",
    "    optimizer.zero_grad()\n",
    "    "
   ]
  },
  {
   "cell_type": "code",
   "execution_count": null,
   "metadata": {},
   "outputs": [],
   "source": [
    "model.eval()\n",
    "cost = 0\n",
    "for time, snapshot in enumerate(test_dataset):\n",
    "    if time == 0:\n",
    "        model.recurrent.weight = None\n",
    "    y_hat = model(snapshot.x, snapshot.edge_index, snapshot.edge_attr)\n",
    "    cost = cost + torch.mean((y_hat-snapshot.y)**2)\n",
    "cost = cost / (time+1)\n",
    "cost = cost.item()\n",
    "print(\"MSE: {:.4f}\".format(cost))"
   ]
  }
 ],
 "metadata": {
  "kernelspec": {
   "display_name": "pipenv",
   "language": "python",
   "name": "python3"
  },
  "language_info": {
   "codemirror_mode": {
    "name": "ipython",
    "version": 3
   },
   "file_extension": ".py",
   "mimetype": "text/x-python",
   "name": "python",
   "nbconvert_exporter": "python",
   "pygments_lexer": "ipython3",
   "version": "3.11.9"
  }
 },
 "nbformat": 4,
 "nbformat_minor": 2
}

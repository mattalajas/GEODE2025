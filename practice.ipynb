{
 "cells": [
  {
   "cell_type": "code",
   "execution_count": 4,
   "metadata": {},
   "outputs": [
    {
     "name": "stdout",
     "output_type": "stream",
     "text": [
      "cuda:0\n"
     ]
    }
   ],
   "source": [
    "import torch\n",
    "import torch.nn as nn\n",
    "import torch.nn.functional as F\n",
    "import torch.utils.data as data\n",
    "import torch.optim as optim\n",
    "\n",
    "import torchvision\n",
    "from torchvision.datasets import CIFAR10\n",
    "from torchvision import transforms\n",
    "\n",
    "device = torch.device('cuda:0') if torch.cuda.is_available() else torch.device('cpu')\n",
    "print(device)"
   ]
  },
  {
   "cell_type": "code",
   "execution_count": 5,
   "metadata": {},
   "outputs": [],
   "source": [
    "class GCNLayer(nn.Module):\n",
    "    def __init__(self, c_in, c_out):\n",
    "        super().__init__()\n",
    "        self.projection = nn.Linear(c_in, c_out)\n",
    "\n",
    "    def forward(self, node_feat, adj_mat):\n",
    "        num_neighbors = adj_mat.sum(dim = -1, keepdims=True)\n",
    "        node_feat = self.projection(node_feat)\n",
    "        node_feat = torch.bmm(adj_mat, node_feat)\n",
    "        node_feat = node_feat / num_neighbors\n",
    "        return node_feat"
   ]
  },
  {
   "cell_type": "code",
   "execution_count": 6,
   "metadata": {},
   "outputs": [
    {
     "data": {
      "image/png": "[encoded data removed]",
      "text/plain": [
       "<Figure size 640x480 with 1 Axes>"
      ]
     },
     "metadata": {},
     "output_type": "display_data"
    }
   ],
   "source": [
    "import networkx as nx\n",
    "\n",
    "nx_g = nx.from_edgelist([(2,1), (2,3), (4,2), (3,4)])\n",
    "\n",
    "import matplotlib.pyplot as plt\n",
    "fig = plt.figure()\n",
    "nx.draw(nx_g, with_labels=True)"
   ]
  },
  {
   "cell_type": "code",
   "execution_count": 8,
   "metadata": {},
   "outputs": [
    {
     "name": "stdout",
     "output_type": "stream",
     "text": [
      "tensor([[[0., 1.],\n",
      "         [2., 3.],\n",
      "         [4., 5.],\n",
      "         [6., 7.]]])\n",
      "tensor([[[1., 1., 0., 0.],\n",
      "         [1., 1., 1., 1.],\n",
      "         [0., 1., 1., 1.],\n",
      "         [0., 1., 1., 1.]]])\n"
     ]
    }
   ],
   "source": [
    "node_feats = torch.arange(8, dtype=torch.float32).view(1, 4, 2)\n",
    "\n",
    "adj_matrix = torch.Tensor([[[1, 1, 0, 0],\n",
    "                            [1, 1, 1, 1],\n",
    "                            [0, 1, 1, 1],\n",
    "                            [0, 1, 1, 1]]])\n",
    "\n",
    "print(node_feats)\n",
    "\n",
    "print(adj_matrix)"
   ]
  },
  {
   "cell_type": "code",
   "execution_count": 14,
   "metadata": {},
   "outputs": [
    {
     "name": "stdout",
     "output_type": "stream",
     "text": [
      "tensor([[[1., 2.],\n",
      "         [3., 4.],\n",
      "         [4., 5.],\n",
      "         [4., 5.]]])\n"
     ]
    }
   ],
   "source": [
    "layer = GCNLayer(c_in=2, c_out=2)\n",
    "\n",
    "layer.projection.weight.data = torch.Tensor([[1., 0.], [0., 1.]])\n",
    "layer.projection.bias.data = torch.Tensor([0., 0.])\n",
    "\n",
    "with torch.no_grad():\n",
    "    out_feats = layer(node_feats, adj_matrix)\n",
    "\n",
    "print(out_feats)"
   ]
  },
  {
   "cell_type": "markdown",
   "metadata": {},
   "source": [
    "# GAT"
   ]
  },
  {
   "cell_type": "code",
   "execution_count": 15,
   "metadata": {},
   "outputs": [],
   "source": [
    "class GATLayer(nn.Module):\n",
    "    def __init__(self, c_in, c_out, num_heads = 1, concat_heads = True, alpha = 0.2) -> None:\n",
    "        super().__init__()\n",
    "        self.num_heads = num_heads\n",
    "        self.concat_heads = concat_heads\n",
    "\n",
    "        if self.concat_heads:\n",
    "            assert c_out % num_heads == 0\n",
    "            c_out = c_out // num_heads\n",
    "        \n",
    "        self.projection = nn.Linear(c_in, c_out*num_heads)\n",
    "        self.a = nn.Parameter(torch.Tensor(num_heads, 2 * c_out))\n",
    "        self.leakyrelu = nn.LeakyReLU(alpha)\n",
    "\n",
    "        nn.init.xavier_uniform_(self.projection.weight.data, gain = 1.414)\n",
    "        nn.init.xavier_uniform_(self.a.data, gain = 1.414)\n",
    "\n",
    "    def forward(self, node_feats, adj_matrix, print_attn_probs=False):\n",
    "        batch_size, num_nodes = node_feats.size(0), node_feats.size(1)\n",
    "\n",
    "        node_feats = self.projection(node_feats)\n",
    "        node_feats = node_feats.view(batch_size, num_nodes, self.num_heads, -1)\n",
    "\n",
    "        edges = adj_matrix.nonzero(as_tuple = False)\n",
    "\n",
    "        node_feats_flat = node_feats.view(batch_size*num_nodes, self.num_heads, -1)\n",
    "\n",
    "        edge_indices_row = edges[:, 0] * num_nodes + edges[:, 1]\n",
    "        edge_indices_col = edges[:, 0] * num_nodes + edges[:, 2]\n",
    "        a_input = torch.cat([\n",
    "            torch.index_select(input=node_feats_flat, index=edge_indices_row, dim = 0),\n",
    "            torch.index_select(input=node_feats_flat, index=edge_indices_col, dim = 0)\n",
    "        ], dim = -1)\n",
    "\n",
    "        attn_logits = torch.einsum('bhc,hc->bh', a_input, self.a)\n",
    "        attn_logits = self.leakyrelu(attn_logits)\n",
    "\n",
    "        attn_matrix = attn_logits.new_zeros(adj_matrix.shape+(self.num_heads,)).fill_(-9e15)\n",
    "        attn_matrix[adj_matrix[...,None].repeat(1,1,1,self.num_heads) == 1] = attn_logits.reshape(-1)\n",
    "\n",
    "        attn_probs = F.softmax(attn_matrix, dim = 2)\n",
    "        if print_attn_probs:\n",
    "            print(attn_probs.permute(0, 3, 1, 2))\n",
    "        node_feats = torch.einsum('bijh,bjhc->bihc', attn_probs, node_feats)\n",
    "\n",
    "        if self.concat_heads:\n",
    "            node_feats = node_feats.reshape(batch_size, num_nodes, -1)\n",
    "        else:\n",
    "            node_feats = node_feats.mean(dim=2)\n",
    "\n",
    "        return node_feats\n"
   ]
  },
  {
   "cell_type": "code",
   "execution_count": 17,
   "metadata": {},
   "outputs": [
    {
     "name": "stdout",
     "output_type": "stream",
     "text": [
      "tensor([[[[0.3543, 0.6457, 0.0000, 0.0000],\n",
      "          [0.1096, 0.1450, 0.2642, 0.4813],\n",
      "          [0.0000, 0.1858, 0.2885, 0.5257],\n",
      "          [0.0000, 0.2391, 0.2696, 0.4913]],\n",
      "\n",
      "         [[0.5100, 0.4900, 0.0000, 0.0000],\n",
      "          [0.2975, 0.2436, 0.2340, 0.2249],\n",
      "          [0.0000, 0.3838, 0.3142, 0.3019],\n",
      "          [0.0000, 0.4018, 0.3289, 0.2693]]]])\n",
      "tensor([[[1.2913, 1.9800],\n",
      "         [4.2344, 3.7725],\n",
      "         [4.6798, 4.8362],\n",
      "         [4.5043, 4.7351]]])\n"
     ]
    }
   ],
   "source": [
    "layer = GATLayer(c_in=2, c_out=2, num_heads=2)\n",
    "\n",
    "layer.projection.weight.data = torch.Tensor([[1., 0.], [0., 1.]])\n",
    "layer.projection.bias.data = torch.Tensor([0., 0.])\n",
    "\n",
    "layer.a.data = torch.Tensor([[-0.2, 0.3], [0.1, -0.1]])\n",
    "\n",
    "with torch.no_grad():\n",
    "    out_feats = layer(node_feats, adj_matrix, print_attn_probs = True)\n",
    "\n",
    "print(out_feats)"
   ]
  },
  {
   "cell_type": "markdown",
   "metadata": {},
   "source": [
    "# Pytorch Geometric"
   ]
  },
  {
   "cell_type": "code",
   "execution_count": 18,
   "metadata": {},
   "outputs": [],
   "source": [
    "import torch_geometric\n",
    "import torch_geometric.nn as g_nn\n",
    "import torch_geometric.data as g_data"
   ]
  },
  {
   "cell_type": "code",
   "execution_count": 19,
   "metadata": {},
   "outputs": [
    {
     "name": "stderr",
     "output_type": "stream",
     "text": [
      "Downloading https://github.com/kimiyoung/planetoid/raw/master/data/ind.cora.x\n",
      "Downloading https://github.com/kimiyoung/planetoid/raw/master/data/ind.cora.tx\n",
      "Downloading https://github.com/kimiyoung/planetoid/raw/master/data/ind.cora.allx\n",
      "Downloading https://github.com/kimiyoung/planetoid/raw/master/data/ind.cora.y\n",
      "Downloading https://github.com/kimiyoung/planetoid/raw/master/data/ind.cora.ty\n",
      "Downloading https://github.com/kimiyoung/planetoid/raw/master/data/ind.cora.ally\n",
      "Downloading https://github.com/kimiyoung/planetoid/raw/master/data/ind.cora.graph\n",
      "Downloading https://github.com/kimiyoung/planetoid/raw/master/data/ind.cora.test.index\n",
      "Processing...\n",
      "Done!\n"
     ]
    }
   ],
   "source": [
    "import torch_geometric.datasets\n",
    "from torch_geometric.transforms import NormalizeFeatures\n",
    "\n",
    "dataset = torch_geometric.datasets.Planetoid(root='./data', name='Cora', transform=NormalizeFeatures())"
   ]
  },
  {
   "cell_type": "code",
   "execution_count": 22,
   "metadata": {},
   "outputs": [
    {
     "data": {
      "text/plain": [
       "Data(x=[2708, 1433], edge_index=[2, 10556], y=[2708], train_mask=[2708], val_mask=[2708], test_mask=[2708])"
      ]
     },
     "execution_count": 22,
     "metadata": {},
     "output_type": "execute_result"
    }
   ],
   "source": [
    "data = dataset[0]\n",
    "data "
   ]
  },
  {
   "cell_type": "code",
   "execution_count": 21,
   "metadata": {},
   "outputs": [
    {
     "name": "stdout",
     "output_type": "stream",
     "text": [
      "GCN(\n",
      "  (conv1): GCNConv(1433, 16)\n",
      "  (conv2): GCNConv(16, 7)\n",
      ")\n"
     ]
    }
   ],
   "source": [
    "from torch_geometric.nn import GCNConv\n",
    "\n",
    "class GCN(torch.nn.Module):\n",
    "    def __init__(self, hidden_chan):\n",
    "        super().__init__()\n",
    "        torch.manual_seed(1123)\n",
    "        self.conv1 = GCNConv(dataset.num_features, hidden_chan)\n",
    "        self.conv2 = GCNConv(hidden_chan, dataset.num_classes)\n",
    "    \n",
    "    def forward(self, x, edge_index):\n",
    "        x = self.conv1(x, edge_index)\n",
    "        x = x.relu()\n",
    "        x = F.dropout(x, p=0.5, training=self.training)\n",
    "        x = self.conv2(x, edge_index)\n",
    "        return x\n",
    "    \n",
    "model = GCN(hidden_chan=16)\n",
    "print(model)"
   ]
  },
  {
   "cell_type": "code",
   "execution_count": 34,
   "metadata": {},
   "outputs": [
    {
     "name": "stdout",
     "output_type": "stream",
     "text": [
      "Epoch: 001, Loss: 1.9459\n",
      "Epoch: 002, Loss: 1.9423\n",
      "Epoch: 003, Loss: 1.9363\n",
      "Epoch: 004, Loss: 1.9294\n",
      "Epoch: 005, Loss: 1.9196\n",
      "Epoch: 006, Loss: 1.9117\n",
      "Epoch: 007, Loss: 1.9036\n",
      "Epoch: 008, Loss: 1.8952\n",
      "Epoch: 009, Loss: 1.8858\n",
      "Epoch: 010, Loss: 1.8714\n",
      "Epoch: 011, Loss: 1.8623\n",
      "Epoch: 012, Loss: 1.8496\n",
      "Epoch: 013, Loss: 1.8320\n",
      "Epoch: 014, Loss: 1.8259\n",
      "Epoch: 015, Loss: 1.7992\n",
      "Epoch: 016, Loss: 1.8037\n",
      "Epoch: 017, Loss: 1.7824\n",
      "Epoch: 018, Loss: 1.7624\n",
      "Epoch: 019, Loss: 1.7550\n",
      "Epoch: 020, Loss: 1.7322\n",
      "Epoch: 021, Loss: 1.7187\n",
      "Epoch: 022, Loss: 1.7053\n",
      "Epoch: 023, Loss: 1.6713\n",
      "Epoch: 024, Loss: 1.6664\n",
      "Epoch: 025, Loss: 1.6434\n",
      "Epoch: 026, Loss: 1.6408\n",
      "Epoch: 027, Loss: 1.6100\n",
      "Epoch: 028, Loss: 1.5735\n",
      "Epoch: 029, Loss: 1.5686\n",
      "Epoch: 030, Loss: 1.5624\n",
      "Epoch: 031, Loss: 1.5369\n",
      "Epoch: 032, Loss: 1.5324\n",
      "Epoch: 033, Loss: 1.5009\n",
      "Epoch: 034, Loss: 1.4669\n",
      "Epoch: 035, Loss: 1.4342\n",
      "Epoch: 036, Loss: 1.4142\n",
      "Epoch: 037, Loss: 1.4200\n",
      "Epoch: 038, Loss: 1.3886\n",
      "Epoch: 039, Loss: 1.3605\n",
      "Epoch: 040, Loss: 1.3120\n",
      "Epoch: 041, Loss: 1.3290\n",
      "Epoch: 042, Loss: 1.2755\n",
      "Epoch: 043, Loss: 1.2718\n",
      "Epoch: 044, Loss: 1.2516\n",
      "Epoch: 045, Loss: 1.2151\n",
      "Epoch: 046, Loss: 1.2030\n",
      "Epoch: 047, Loss: 1.1951\n",
      "Epoch: 048, Loss: 1.1476\n",
      "Epoch: 049, Loss: 1.1865\n",
      "Epoch: 050, Loss: 1.1633\n",
      "Epoch: 051, Loss: 1.1051\n",
      "Epoch: 052, Loss: 1.1215\n",
      "Epoch: 053, Loss: 1.0710\n",
      "Epoch: 054, Loss: 1.0811\n",
      "Epoch: 055, Loss: 1.0303\n",
      "Epoch: 056, Loss: 1.0079\n",
      "Epoch: 057, Loss: 1.0166\n",
      "Epoch: 058, Loss: 0.9973\n",
      "Epoch: 059, Loss: 0.9860\n",
      "Epoch: 060, Loss: 0.9664\n",
      "Epoch: 061, Loss: 0.9455\n",
      "Epoch: 062, Loss: 0.9123\n",
      "Epoch: 063, Loss: 0.8985\n",
      "Epoch: 064, Loss: 0.8971\n",
      "Epoch: 065, Loss: 0.8645\n",
      "Epoch: 066, Loss: 0.8516\n",
      "Epoch: 067, Loss: 0.8384\n",
      "Epoch: 068, Loss: 0.8216\n",
      "Epoch: 069, Loss: 0.8440\n",
      "Epoch: 070, Loss: 0.8119\n",
      "Epoch: 071, Loss: 0.7746\n",
      "Epoch: 072, Loss: 0.8087\n",
      "Epoch: 073, Loss: 0.7953\n",
      "Epoch: 074, Loss: 0.7855\n",
      "Epoch: 075, Loss: 0.7669\n",
      "Epoch: 076, Loss: 0.7695\n",
      "Epoch: 077, Loss: 0.7377\n",
      "Epoch: 078, Loss: 0.7940\n",
      "Epoch: 079, Loss: 0.7259\n",
      "Epoch: 080, Loss: 0.7161\n",
      "Epoch: 081, Loss: 0.6819\n",
      "Epoch: 082, Loss: 0.6434\n",
      "Epoch: 083, Loss: 0.6627\n",
      "Epoch: 084, Loss: 0.6672\n",
      "Epoch: 085, Loss: 0.6425\n",
      "Epoch: 086, Loss: 0.6587\n",
      "Epoch: 087, Loss: 0.6332\n",
      "Epoch: 088, Loss: 0.6374\n",
      "Epoch: 089, Loss: 0.6179\n",
      "Epoch: 090, Loss: 0.6307\n",
      "Epoch: 091, Loss: 0.6213\n",
      "Epoch: 092, Loss: 0.5903\n",
      "Epoch: 093, Loss: 0.5946\n",
      "Epoch: 094, Loss: 0.5875\n",
      "Epoch: 095, Loss: 0.5927\n",
      "Epoch: 096, Loss: 0.5829\n",
      "Epoch: 097, Loss: 0.5739\n",
      "Epoch: 098, Loss: 0.5619\n",
      "Epoch: 099, Loss: 0.5295\n",
      "Epoch: 100, Loss: 0.5730\n"
     ]
    }
   ],
   "source": [
    "model = GCN(hidden_chan=16)\n",
    "optimizer = torch.optim.Adam(model.parameters(), lr = 0.01, weight_decay=5e-4)\n",
    "criterion = torch.nn.CrossEntropyLoss()\n",
    "\n",
    "def train(model):\n",
    "    model.train()\n",
    "    optimizer.zero_grad()\n",
    "    out = model(data.x, data.edge_index)\n",
    "    loss = criterion(out[data.train_mask], data.y[data.train_mask])\n",
    "    loss.backward()\n",
    "    optimizer.step()\n",
    "    return loss\n",
    "\n",
    "def test(model):\n",
    "    model.eval()\n",
    "    out = model(data.x, data.edge_index)\n",
    "    pred = out.argmax(dim=1)\n",
    "    test_correct = pred[data.test_mask] == data.y[data.test_mask]\n",
    "    test_acc = int(test_correct.sum()) / int(data.test_mask.sum())\n",
    "    return test_acc\n",
    "\n",
    "for epoch in range(1, 101):\n",
    "    loss = train(model)\n",
    "    print(f'Epoch: {epoch:03d}, Loss: {loss:.4f}')"
   ]
  },
  {
   "cell_type": "code",
   "execution_count": 28,
   "metadata": {},
   "outputs": [
    {
     "name": "stdout",
     "output_type": "stream",
     "text": [
      "0.798\n"
     ]
    }
   ],
   "source": [
    "test_acc = test()\n",
    "print(test_acc)"
   ]
  },
  {
   "cell_type": "code",
   "execution_count": 46,
   "metadata": {},
   "outputs": [
    {
     "name": "stdout",
     "output_type": "stream",
     "text": [
      "GAT(\n",
      "  (conv1): GATConv(1433, 8, heads=1)\n",
      "  (conv2): GATConv(8, 7, heads=1)\n",
      ")\n"
     ]
    }
   ],
   "source": [
    "from torch_geometric.nn import GATConv\n",
    "\n",
    "class GAT(torch.nn.Module):\n",
    "    def __init__(self, hidden_chan, heads):\n",
    "        super().__init__()\n",
    "        torch.manual_seed(1123)\n",
    "        self.conv1 = GATConv(dataset.num_features, hidden_chan)\n",
    "        self.conv2 = GATConv(hidden_chan, dataset.num_classes)\n",
    "    \n",
    "    def forward(self, x, edge_index):\n",
    "        x = F.dropout(x, p=0.6, training=self.training)\n",
    "        x = self.conv1(x, edge_index)\n",
    "        x = F.elu(x)\n",
    "        x = F.dropout(x, p=0.6, training=self.training)\n",
    "        x = self.conv2(x, edge_index)\n",
    "        return x\n",
    "\n",
    "def train(model):\n",
    "    model.train()\n",
    "    optimizer.zero_grad()\n",
    "    out = model(data.x, data.edge_index)\n",
    "    loss = criterion(out[data.train_mask], data.y[data.train_mask])\n",
    "    loss.backward()\n",
    "    optimizer.step()\n",
    "    return loss\n",
    "\n",
    "def test(model, mask):\n",
    "    model.eval()\n",
    "    out = model(data.x, data.edge_index)\n",
    "    pred = out.argmax(dim=1)\n",
    "    test_correct = pred[mask] == data.y[mask]\n",
    "    test_acc = int(test_correct.sum()) / int(mask.sum())\n",
    "    return test_acc\n",
    "    \n",
    "gatmodel = GAT(hidden_chan=8, heads=8)\n",
    "optimizer = torch.optim.Adam(gatmodel.parameters(), lr = 0.01, weight_decay=5e-4)\n",
    "criterion = torch.nn.CrossEntropyLoss()\n",
    "print(gatmodel)"
   ]
  },
  {
   "cell_type": "code",
   "execution_count": 49,
   "metadata": {},
   "outputs": [
    {
     "name": "stdout",
     "output_type": "stream",
     "text": [
      "Epoch: 001, Loss: 0.7602, Val; 0.7380,           Test: 0.7770\n",
      "Epoch: 002, Loss: 0.7905, Val; 0.7320,           Test: 0.7790\n",
      "Epoch: 003, Loss: 0.8240, Val; 0.7340,           Test: 0.7750\n",
      "Epoch: 004, Loss: 0.7399, Val; 0.7320,           Test: 0.7750\n",
      "Epoch: 005, Loss: 0.7183, Val; 0.7440,           Test: 0.7680\n",
      "Epoch: 006, Loss: 0.7952, Val; 0.7440,           Test: 0.7650\n",
      "Epoch: 007, Loss: 0.8133, Val; 0.7400,           Test: 0.7640\n",
      "Epoch: 008, Loss: 0.7635, Val; 0.7560,           Test: 0.7650\n",
      "Epoch: 009, Loss: 0.8283, Val; 0.7560,           Test: 0.7670\n",
      "Epoch: 010, Loss: 0.7206, Val; 0.7620,           Test: 0.7680\n",
      "Epoch: 011, Loss: 0.7232, Val; 0.7660,           Test: 0.7650\n",
      "Epoch: 012, Loss: 0.7161, Val; 0.7700,           Test: 0.7680\n",
      "Epoch: 013, Loss: 0.7365, Val; 0.7720,           Test: 0.7730\n",
      "Epoch: 014, Loss: 0.7093, Val; 0.7700,           Test: 0.7790\n",
      "Epoch: 015, Loss: 0.6774, Val; 0.7740,           Test: 0.7840\n",
      "Epoch: 016, Loss: 0.7981, Val; 0.7800,           Test: 0.7820\n",
      "Epoch: 017, Loss: 0.7350, Val; 0.7800,           Test: 0.7800\n",
      "Epoch: 018, Loss: 0.7277, Val; 0.7720,           Test: 0.7770\n",
      "Epoch: 019, Loss: 0.7120, Val; 0.7580,           Test: 0.7770\n",
      "Epoch: 020, Loss: 0.6932, Val; 0.7600,           Test: 0.7780\n",
      "Epoch: 021, Loss: 0.7185, Val; 0.7600,           Test: 0.7780\n",
      "Epoch: 022, Loss: 0.6533, Val; 0.7520,           Test: 0.7750\n",
      "Epoch: 023, Loss: 0.6856, Val; 0.7640,           Test: 0.7790\n",
      "Epoch: 024, Loss: 0.7011, Val; 0.7640,           Test: 0.7790\n",
      "Epoch: 025, Loss: 0.7041, Val; 0.7620,           Test: 0.7820\n",
      "Epoch: 026, Loss: 0.6337, Val; 0.7640,           Test: 0.7800\n",
      "Epoch: 027, Loss: 0.6456, Val; 0.7640,           Test: 0.7810\n",
      "Epoch: 028, Loss: 0.6507, Val; 0.7600,           Test: 0.7730\n",
      "Epoch: 029, Loss: 0.7917, Val; 0.7620,           Test: 0.7700\n",
      "Epoch: 030, Loss: 0.6299, Val; 0.7600,           Test: 0.7720\n",
      "Epoch: 031, Loss: 0.6147, Val; 0.7620,           Test: 0.7740\n",
      "Epoch: 032, Loss: 0.6257, Val; 0.7640,           Test: 0.7740\n",
      "Epoch: 033, Loss: 0.6234, Val; 0.7600,           Test: 0.7750\n",
      "Epoch: 034, Loss: 0.6361, Val; 0.7600,           Test: 0.7750\n",
      "Epoch: 035, Loss: 0.6814, Val; 0.7600,           Test: 0.7760\n",
      "Epoch: 036, Loss: 0.7038, Val; 0.7620,           Test: 0.7760\n",
      "Epoch: 037, Loss: 0.6486, Val; 0.7680,           Test: 0.7790\n",
      "Epoch: 038, Loss: 0.5665, Val; 0.7700,           Test: 0.7760\n",
      "Epoch: 039, Loss: 0.6898, Val; 0.7700,           Test: 0.7860\n",
      "Epoch: 040, Loss: 0.6299, Val; 0.7640,           Test: 0.7900\n",
      "Epoch: 041, Loss: 0.6275, Val; 0.7620,           Test: 0.7840\n",
      "Epoch: 042, Loss: 0.6535, Val; 0.7540,           Test: 0.7830\n",
      "Epoch: 043, Loss: 0.6120, Val; 0.7520,           Test: 0.7820\n",
      "Epoch: 044, Loss: 0.6611, Val; 0.7600,           Test: 0.7820\n",
      "Epoch: 045, Loss: 0.6965, Val; 0.7620,           Test: 0.7870\n",
      "Epoch: 046, Loss: 0.6554, Val; 0.7720,           Test: 0.7880\n",
      "Epoch: 047, Loss: 0.5904, Val; 0.7740,           Test: 0.7910\n",
      "Epoch: 048, Loss: 0.6743, Val; 0.7620,           Test: 0.7880\n",
      "Epoch: 049, Loss: 0.6894, Val; 0.7560,           Test: 0.7800\n",
      "Epoch: 050, Loss: 0.5616, Val; 0.7520,           Test: 0.7770\n",
      "Epoch: 051, Loss: 0.6670, Val; 0.7540,           Test: 0.7780\n",
      "Epoch: 052, Loss: 0.6301, Val; 0.7520,           Test: 0.7760\n",
      "Epoch: 053, Loss: 0.5910, Val; 0.7460,           Test: 0.7750\n",
      "Epoch: 054, Loss: 0.5302, Val; 0.7480,           Test: 0.7740\n",
      "Epoch: 055, Loss: 0.6196, Val; 0.7500,           Test: 0.7730\n",
      "Epoch: 056, Loss: 0.6289, Val; 0.7500,           Test: 0.7740\n",
      "Epoch: 057, Loss: 0.5859, Val; 0.7520,           Test: 0.7770\n",
      "Epoch: 058, Loss: 0.5369, Val; 0.7560,           Test: 0.7820\n",
      "Epoch: 059, Loss: 0.5929, Val; 0.7560,           Test: 0.7830\n",
      "Epoch: 060, Loss: 0.5033, Val; 0.7640,           Test: 0.7840\n",
      "Epoch: 061, Loss: 0.5463, Val; 0.7580,           Test: 0.7830\n",
      "Epoch: 062, Loss: 0.5772, Val; 0.7520,           Test: 0.7780\n",
      "Epoch: 063, Loss: 0.5887, Val; 0.7540,           Test: 0.7750\n",
      "Epoch: 064, Loss: 0.5997, Val; 0.7520,           Test: 0.7760\n",
      "Epoch: 065, Loss: 0.5994, Val; 0.7460,           Test: 0.7740\n",
      "Epoch: 066, Loss: 0.4745, Val; 0.7480,           Test: 0.7730\n",
      "Epoch: 067, Loss: 0.6160, Val; 0.7420,           Test: 0.7710\n",
      "Epoch: 068, Loss: 0.5279, Val; 0.7440,           Test: 0.7700\n",
      "Epoch: 069, Loss: 0.5894, Val; 0.7380,           Test: 0.7690\n",
      "Epoch: 070, Loss: 0.5201, Val; 0.7460,           Test: 0.7700\n",
      "Epoch: 071, Loss: 0.5487, Val; 0.7560,           Test: 0.7820\n",
      "Epoch: 072, Loss: 0.4845, Val; 0.7600,           Test: 0.7880\n",
      "Epoch: 073, Loss: 0.5394, Val; 0.7680,           Test: 0.7960\n",
      "Epoch: 074, Loss: 0.4971, Val; 0.7760,           Test: 0.7940\n",
      "Epoch: 075, Loss: 0.5836, Val; 0.7780,           Test: 0.8000\n",
      "Epoch: 076, Loss: 0.5255, Val; 0.7840,           Test: 0.8060\n",
      "Epoch: 077, Loss: 0.5658, Val; 0.7840,           Test: 0.8020\n",
      "Epoch: 078, Loss: 0.5053, Val; 0.7860,           Test: 0.8000\n",
      "Epoch: 079, Loss: 0.6352, Val; 0.7820,           Test: 0.7970\n",
      "Epoch: 080, Loss: 0.5482, Val; 0.7800,           Test: 0.7950\n",
      "Epoch: 081, Loss: 0.5521, Val; 0.7780,           Test: 0.7940\n",
      "Epoch: 082, Loss: 0.5146, Val; 0.7780,           Test: 0.7920\n",
      "Epoch: 083, Loss: 0.5553, Val; 0.7760,           Test: 0.7920\n",
      "Epoch: 084, Loss: 0.5635, Val; 0.7700,           Test: 0.7910\n",
      "Epoch: 085, Loss: 0.4820, Val; 0.7720,           Test: 0.7900\n",
      "Epoch: 086, Loss: 0.4853, Val; 0.7720,           Test: 0.7970\n",
      "Epoch: 087, Loss: 0.5080, Val; 0.7720,           Test: 0.8010\n",
      "Epoch: 088, Loss: 0.4912, Val; 0.7660,           Test: 0.7990\n",
      "Epoch: 089, Loss: 0.4620, Val; 0.7660,           Test: 0.7950\n",
      "Epoch: 090, Loss: 0.5628, Val; 0.7640,           Test: 0.7940\n",
      "Epoch: 091, Loss: 0.5450, Val; 0.7620,           Test: 0.7900\n",
      "Epoch: 092, Loss: 0.4989, Val; 0.7620,           Test: 0.7870\n",
      "Epoch: 093, Loss: 0.6359, Val; 0.7580,           Test: 0.7820\n",
      "Epoch: 094, Loss: 0.5099, Val; 0.7580,           Test: 0.7830\n",
      "Epoch: 095, Loss: 0.4949, Val; 0.7620,           Test: 0.7860\n",
      "Epoch: 096, Loss: 0.5520, Val; 0.7640,           Test: 0.7850\n",
      "Epoch: 097, Loss: 0.4932, Val; 0.7680,           Test: 0.7870\n",
      "Epoch: 098, Loss: 0.5356, Val; 0.7640,           Test: 0.7870\n",
      "Epoch: 099, Loss: 0.5020, Val; 0.7660,           Test: 0.7790\n",
      "Epoch: 100, Loss: 0.4990, Val; 0.7720,           Test: 0.7800\n",
      "Epoch: 101, Loss: 0.5163, Val; 0.7760,           Test: 0.7790\n",
      "Epoch: 102, Loss: 0.4503, Val; 0.7820,           Test: 0.7820\n",
      "Epoch: 103, Loss: 0.4806, Val; 0.7820,           Test: 0.7870\n",
      "Epoch: 104, Loss: 0.4624, Val; 0.7780,           Test: 0.7920\n",
      "Epoch: 105, Loss: 0.4850, Val; 0.7840,           Test: 0.8020\n",
      "Epoch: 106, Loss: 0.5060, Val; 0.7860,           Test: 0.8050\n",
      "Epoch: 107, Loss: 0.5129, Val; 0.7800,           Test: 0.8030\n",
      "Epoch: 108, Loss: 0.4709, Val; 0.7780,           Test: 0.7960\n",
      "Epoch: 109, Loss: 0.5023, Val; 0.7800,           Test: 0.7920\n",
      "Epoch: 110, Loss: 0.5736, Val; 0.7800,           Test: 0.7920\n",
      "Epoch: 111, Loss: 0.5550, Val; 0.7820,           Test: 0.7890\n",
      "Epoch: 112, Loss: 0.4895, Val; 0.7800,           Test: 0.7890\n",
      "Epoch: 113, Loss: 0.4979, Val; 0.7800,           Test: 0.7930\n",
      "Epoch: 114, Loss: 0.4965, Val; 0.7800,           Test: 0.7930\n",
      "Epoch: 115, Loss: 0.5976, Val; 0.7780,           Test: 0.7920\n",
      "Epoch: 116, Loss: 0.5026, Val; 0.7780,           Test: 0.7880\n",
      "Epoch: 117, Loss: 0.5072, Val; 0.7780,           Test: 0.7900\n",
      "Epoch: 118, Loss: 0.5446, Val; 0.7700,           Test: 0.7820\n",
      "Epoch: 119, Loss: 0.4376, Val; 0.7720,           Test: 0.7800\n",
      "Epoch: 120, Loss: 0.5151, Val; 0.7720,           Test: 0.7800\n",
      "Epoch: 121, Loss: 0.4108, Val; 0.7700,           Test: 0.7800\n",
      "Epoch: 122, Loss: 0.4243, Val; 0.7740,           Test: 0.7830\n",
      "Epoch: 123, Loss: 0.4730, Val; 0.7780,           Test: 0.7870\n",
      "Epoch: 124, Loss: 0.4533, Val; 0.7820,           Test: 0.7900\n",
      "Epoch: 125, Loss: 0.4522, Val; 0.7800,           Test: 0.7950\n",
      "Epoch: 126, Loss: 0.5703, Val; 0.7820,           Test: 0.7980\n",
      "Epoch: 127, Loss: 0.4290, Val; 0.7840,           Test: 0.8000\n",
      "Epoch: 128, Loss: 0.4677, Val; 0.7840,           Test: 0.8030\n",
      "Epoch: 129, Loss: 0.5560, Val; 0.7860,           Test: 0.8040\n",
      "Epoch: 130, Loss: 0.5428, Val; 0.7820,           Test: 0.8010\n",
      "Epoch: 131, Loss: 0.4999, Val; 0.7820,           Test: 0.8020\n",
      "Epoch: 132, Loss: 0.4895, Val; 0.7820,           Test: 0.7970\n",
      "Epoch: 133, Loss: 0.5150, Val; 0.7820,           Test: 0.7960\n",
      "Epoch: 134, Loss: 0.4762, Val; 0.7780,           Test: 0.7970\n",
      "Epoch: 135, Loss: 0.5097, Val; 0.7800,           Test: 0.8000\n",
      "Epoch: 136, Loss: 0.5279, Val; 0.7800,           Test: 0.7990\n",
      "Epoch: 137, Loss: 0.4665, Val; 0.7760,           Test: 0.7950\n",
      "Epoch: 138, Loss: 0.4917, Val; 0.7780,           Test: 0.7940\n",
      "Epoch: 139, Loss: 0.4907, Val; 0.7740,           Test: 0.7930\n",
      "Epoch: 140, Loss: 0.4159, Val; 0.7760,           Test: 0.7950\n",
      "Epoch: 141, Loss: 0.4887, Val; 0.7800,           Test: 0.7940\n",
      "Epoch: 142, Loss: 0.4281, Val; 0.7800,           Test: 0.7930\n",
      "Epoch: 143, Loss: 0.4843, Val; 0.7800,           Test: 0.7890\n",
      "Epoch: 144, Loss: 0.4388, Val; 0.7760,           Test: 0.7920\n",
      "Epoch: 145, Loss: 0.5349, Val; 0.7760,           Test: 0.7900\n",
      "Epoch: 146, Loss: 0.4575, Val; 0.7820,           Test: 0.7910\n",
      "Epoch: 147, Loss: 0.4208, Val; 0.7780,           Test: 0.7920\n",
      "Epoch: 148, Loss: 0.5589, Val; 0.7740,           Test: 0.7940\n",
      "Epoch: 149, Loss: 0.4332, Val; 0.7820,           Test: 0.7960\n",
      "Epoch: 150, Loss: 0.4161, Val; 0.7780,           Test: 0.7980\n",
      "Epoch: 151, Loss: 0.4349, Val; 0.7760,           Test: 0.7970\n",
      "Epoch: 152, Loss: 0.4368, Val; 0.7800,           Test: 0.7970\n",
      "Epoch: 153, Loss: 0.4195, Val; 0.7860,           Test: 0.7970\n",
      "Epoch: 154, Loss: 0.4694, Val; 0.7880,           Test: 0.7980\n",
      "Epoch: 155, Loss: 0.5086, Val; 0.7900,           Test: 0.8010\n",
      "Epoch: 156, Loss: 0.4533, Val; 0.7820,           Test: 0.8020\n",
      "Epoch: 157, Loss: 0.5370, Val; 0.7820,           Test: 0.8020\n",
      "Epoch: 158, Loss: 0.4483, Val; 0.7880,           Test: 0.8050\n",
      "Epoch: 159, Loss: 0.4568, Val; 0.7860,           Test: 0.8030\n",
      "Epoch: 160, Loss: 0.5263, Val; 0.7820,           Test: 0.7960\n",
      "Epoch: 161, Loss: 0.4729, Val; 0.7820,           Test: 0.7940\n",
      "Epoch: 162, Loss: 0.4455, Val; 0.7800,           Test: 0.7950\n",
      "Epoch: 163, Loss: 0.4938, Val; 0.7760,           Test: 0.7900\n",
      "Epoch: 164, Loss: 0.3815, Val; 0.7740,           Test: 0.7900\n",
      "Epoch: 165, Loss: 0.4717, Val; 0.7780,           Test: 0.7880\n",
      "Epoch: 166, Loss: 0.4421, Val; 0.7760,           Test: 0.7890\n",
      "Epoch: 167, Loss: 0.4289, Val; 0.7800,           Test: 0.7900\n",
      "Epoch: 168, Loss: 0.4992, Val; 0.7780,           Test: 0.7910\n",
      "Epoch: 169, Loss: 0.4563, Val; 0.7800,           Test: 0.7950\n",
      "Epoch: 170, Loss: 0.4393, Val; 0.7820,           Test: 0.7950\n",
      "Epoch: 171, Loss: 0.4239, Val; 0.7860,           Test: 0.7980\n",
      "Epoch: 172, Loss: 0.4723, Val; 0.7880,           Test: 0.8000\n",
      "Epoch: 173, Loss: 0.5252, Val; 0.7900,           Test: 0.8000\n",
      "Epoch: 174, Loss: 0.3903, Val; 0.7860,           Test: 0.8060\n",
      "Epoch: 175, Loss: 0.4997, Val; 0.7860,           Test: 0.8010\n",
      "Epoch: 176, Loss: 0.4758, Val; 0.7860,           Test: 0.7990\n",
      "Epoch: 177, Loss: 0.4237, Val; 0.7840,           Test: 0.7980\n",
      "Epoch: 178, Loss: 0.3868, Val; 0.7860,           Test: 0.7990\n",
      "Epoch: 179, Loss: 0.4833, Val; 0.7800,           Test: 0.7980\n",
      "Epoch: 180, Loss: 0.4678, Val; 0.7820,           Test: 0.7970\n",
      "Epoch: 181, Loss: 0.4726, Val; 0.7820,           Test: 0.7970\n",
      "Epoch: 182, Loss: 0.4703, Val; 0.7820,           Test: 0.7970\n",
      "Epoch: 183, Loss: 0.4094, Val; 0.7860,           Test: 0.8010\n",
      "Epoch: 184, Loss: 0.3754, Val; 0.7860,           Test: 0.8030\n",
      "Epoch: 185, Loss: 0.4006, Val; 0.7880,           Test: 0.8070\n",
      "Epoch: 186, Loss: 0.4247, Val; 0.7860,           Test: 0.8040\n",
      "Epoch: 187, Loss: 0.4344, Val; 0.7880,           Test: 0.7990\n",
      "Epoch: 188, Loss: 0.4193, Val; 0.7880,           Test: 0.7980\n",
      "Epoch: 189, Loss: 0.4478, Val; 0.7800,           Test: 0.7980\n",
      "Epoch: 190, Loss: 0.4753, Val; 0.7780,           Test: 0.7990\n",
      "Epoch: 191, Loss: 0.4261, Val; 0.7800,           Test: 0.7990\n",
      "Epoch: 192, Loss: 0.4408, Val; 0.7820,           Test: 0.7990\n",
      "Epoch: 193, Loss: 0.4747, Val; 0.7840,           Test: 0.7990\n",
      "Epoch: 194, Loss: 0.4034, Val; 0.7860,           Test: 0.8050\n",
      "Epoch: 195, Loss: 0.4725, Val; 0.7860,           Test: 0.7990\n",
      "Epoch: 196, Loss: 0.4515, Val; 0.7840,           Test: 0.7980\n",
      "Epoch: 197, Loss: 0.3532, Val; 0.7860,           Test: 0.7960\n",
      "Epoch: 198, Loss: 0.4104, Val; 0.7840,           Test: 0.7970\n",
      "Epoch: 199, Loss: 0.4609, Val; 0.7840,           Test: 0.7950\n"
     ]
    }
   ],
   "source": [
    "for epoch in range(1, 200):\n",
    "    loss = train(gatmodel)\n",
    "    val_acc = test(gatmodel, data.val_mask)\n",
    "    test_acc = test(gatmodel, data.test_mask)\n",
    "    print(f'Epoch: {epoch:03d}, Loss: {loss:.4f}, Val; {val_acc:.4f}, \\\n",
    "          Test: {test_acc:.4f}')"
   ]
  },
  {
   "cell_type": "code",
   "execution_count": 51,
   "metadata": {},
   "outputs": [
    {
     "name": "stdout",
     "output_type": "stream",
     "text": [
      "1.0\n"
     ]
    }
   ],
   "source": [
    "test_acc = test(gatmodel, mask=data.train_mask)\n",
    "print(test_acc)"
   ]
  }
 ],
 "metadata": {
  "kernelspec": {
   "display_name": "pipenv",
   "language": "python",
   "name": "python3"
  },
  "language_info": {
   "codemirror_mode": {
    "name": "ipython",
    "version": 3
   },
   "file_extension": ".py",
   "mimetype": "text/x-python",
   "name": "python",
   "nbconvert_exporter": "python",
   "pygments_lexer": "ipython3",
   "version": "3.11.4"
  }
 },
 "nbformat": 4,
 "nbformat_minor": 2
}
